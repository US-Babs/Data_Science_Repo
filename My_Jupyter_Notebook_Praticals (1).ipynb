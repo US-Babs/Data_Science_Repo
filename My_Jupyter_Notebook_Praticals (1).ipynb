{
  "metadata": {
    "kernelspec": {
      "name": "python",
      "display_name": "Pyolite",
      "language": "python"
    },
    "language_info": {
      "codemirror_mode": {
        "name": "python",
        "version": 3
      },
      "file_extension": ".py",
      "mimetype": "text/x-python",
      "name": "python",
      "nbconvert_exporter": "python",
      "pygments_lexer": "ipython3",
      "version": "3.8"
    }
  },
  "nbformat_minor": 4,
  "nbformat": 4,
  "cells": [
    {
      "cell_type": "markdown",
      "source": "<center>\n    <img src=\"https://s3-api.us-geo.objectstorage.softlayer.net/cf-courses-data/CognitiveClass/Logos/organization_logo/organization_logo.png\" width=\"300\" alt=\"cognitiveclass.ai logo\"  />\n</center>\n",
      "metadata": {}
    },
    {
      "cell_type": "markdown",
      "source": "#### Add your code below following the instructions given in the course\n",
      "metadata": {}
    },
    {
      "cell_type": "markdown",
      "source": "<a href=\"https://dataplatform.cloud.ibm.com/gallery\">IBM Cloud Gallery</a>",
      "metadata": {}
    },
    {
      "cell_type": "markdown",
      "source": "# Header 1",
      "metadata": {
        "tags": []
      }
    },
    {
      "cell_type": "markdown",
      "source": "<a href=\"https://github.com/adam-p/markdown-here/wiki/Markdown-Cheatsheet\">BABS_CHEAT_SHEAT_GitHub</a>",
      "metadata": {}
    },
    {
      "cell_type": "markdown",
      "source": "| header | header |\n| ------ | ------ |\n| cell | cell |",
      "metadata": {}
    },
    {
      "cell_type": "code",
      "source": "",
      "metadata": {},
      "execution_count": null,
      "outputs": []
    },
    {
      "cell_type": "markdown",
      "source": "| header | header | HEADER |        |\n| ------| ------  | ------ | -------|\n|  cell  |  cell  |  CELL  |  CELL  |",
      "metadata": {}
    },
    {
      "cell_type": "markdown",
      "source": "<a href=\"https://github.com/jupyter/jupyter/wiki\">JUPYTER_GitHub</a> \n\n<a href=\"https://nbviewer.jupyter.org\">Jupiter_NB-Viewer(For links that come with *.ipynb extention)</a>\n\n<a href=\"https://nbviewer.jupyter.org/github/Tanu-N-Prabhu/Python/blob/master/Exploratory_data_Analysis.ipynb\">JUPYTER_Exploratory_Very_important</a>\n                                                                                                     \n<a href=\"https://towardsdatascience.com/data-cleaning-with-python-using-pandas-library-c6f4a68ea8eb\">For data integration / cleansing at a smaller scale, the python library pandas</a>\n\n<a href=\"https://nbviewer.jupyter.org/github/temporaer/tutorial_ml_gkbionics/blob/master/2%20-%20KMeans.ipynb\">CLUSTERING_Eg</a>\n\n<a href=\"https://www.kaggle.com/lalitharajesh/iris-dataset-exploratory-data-analysis\">IRIS_Dataset</a>\n",
      "metadata": {}
    },
    {
      "cell_type": "code",
      "source": "",
      "metadata": {},
      "execution_count": null,
      "outputs": []
    }
  ]
}